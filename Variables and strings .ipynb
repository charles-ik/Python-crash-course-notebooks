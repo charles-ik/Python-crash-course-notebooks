{
 "cells": [
  {
   "cell_type": "markdown",
   "id": "d08deefb",
   "metadata": {},
   "source": [
    "Write a separate program to accomplish each of these exercises. \n",
    "\n",
    "Save each program with a filename that follows standard Python conventions, using lowercase letters and underscores, such as simple_message.py and simple _messages.py.\n",
    "\n",
    "2-1. Simple Message: Assign a message to a variable, and then print that message.\n",
    "\n",
    "2-2. Simple Messages: Assign a message to a variable, and print that message. Then change the value of the variable to a new message, and print the new message."
   ]
  },
  {
   "cell_type": "code",
   "execution_count": 58,
   "id": "274ee16b",
   "metadata": {},
   "outputs": [
    {
     "name": "stdout",
     "output_type": "stream",
     "text": [
      "this is a message to be printed \n",
      "the value of the message variable has been changed\n"
     ]
    }
   ],
   "source": [
    "#2.1\n",
    "message = (\"this is a message to be printed \")\n",
    "print(message)\n",
    "\n",
    "#2.2\n",
    "message = ('the value of the message variable has been changed')\n",
    "print(message)\n",
    "\n",
    "#the message variable changes only after it has been instantiate again."
   ]
  },
  {
   "cell_type": "markdown",
   "id": "2f35fa4c",
   "metadata": {},
   "source": [
    "# Strings \n",
    "\n",
    "- anything inside quotation marks \n",
    "- can use but '' and \"\" \n",
    "\n",
    "# can change the case of words in a string \n",
    "```python \n",
    "name = \"ada lovelace\"\n",
    "print(name.title())\n",
    "\n",
    "```\n",
    "the method title() changes each word to title case where each word begins with a capital letter\n",
    "\n",
    "similary the methods \n",
    "```python\n",
    "  name = \"ada lovelace\" \n",
    "  print(name.upper())\n",
    "  print(name.lower()) \n",
    " ```   \n",
    " Outputting the following: \n",
    " \n",
    " ADA LOVELACE\n",
    " ada lovelace"
   ]
  },
  {
   "cell_type": "code",
   "execution_count": 59,
   "id": "ebb2c622",
   "metadata": {},
   "outputs": [
    {
     "name": "stdout",
     "output_type": "stream",
     "text": [
      "ada lovelace\n",
      "Hello, Ada Lovelace\n",
      "here is ada's first name in lower case\n",
      "Here is an message containing miss Lovelace's name stored as a variable which contains an f string\n",
      "this string has no brackets ada lovelace\n"
     ]
    }
   ],
   "source": [
    "# f strings (format strings, stores variables in strings)\n",
    "# f strings allow you to place variable into a string \"\"\n",
    "\n",
    "first_name = \"ada\"\n",
    "last_name = 'lovelace'\n",
    "#full_name = (first_name +\" \" + last_name )\n",
    "full_name = f\"{first_name} {last_name}\"\n",
    "print (full_name)\n",
    "print(f\"Hello, {full_name.title()}\")\n",
    "print(f\"here is {first_name.lower()}'s first name in lower case\" )\n",
    "f_string_variable = (f\"Here is an message containing miss {last_name.title()}'s name stored as a variable which contains an f string\")\n",
    "print(f_string_variable )\n",
    "\n",
    "# here are two ways that output the same result \n",
    "# the second way however stores the variable's value inside a string\n",
    "# this is done by placing the letter f directly before quotation marks in a string when\n",
    "# of course don't forget the curly brackets {}\n",
    "\n",
    "#you don't actually need brackets when initalising the variable\n",
    "normal = f\"this string has no brackets {full_name}\"\n",
    "print (normal)\n"
   ]
  },
  {
   "cell_type": "code",
   "execution_count": 60,
   "id": "35bed83d",
   "metadata": {},
   "outputs": [
    {
     "name": "stdout",
     "output_type": "stream",
     "text": [
      "\tthewordpython\n",
      "Languages:\n",
      "Python\n",
      "C\n",
      "JavaScript\n",
      "\n",
      "\n",
      "Languages:\n",
      "\tPython\n",
      "\tC\n",
      "\tJavaScript\n"
     ]
    }
   ],
   "source": [
    "# White spaces - new lines and tabs \n",
    "\n",
    "# add t simply type \"\\t\"\n",
    "# e.g \n",
    "print('\\tthewordpython')\n",
    "\n",
    "# can also print new line using '\\n'\n",
    "# e.g\n",
    "print(\"Languages:\\nPython\\nC\\nJavaScript\")\n",
    "\n",
    "print('\\n') #this by it self creates and empty new line in the code when ran \n",
    "\n",
    "#can also combine them \n",
    "print(\"Languages:\\n\\tPython\\n\\tC\\n\\tJavaScript\")"
   ]
  },
  {
   "cell_type": "markdown",
   "id": "4e756b86",
   "metadata": {},
   "source": [
    "You can also strip white space form the sting using rstrip() method \n",
    "to remove the white space permanetly form the **end( right side of a string** you will have to initialize the variable again using the rstrip() method \n",
    "\n",
    "**example removing withspace form end of string using rstrip method**\n",
    "\n",
    "```python\n",
    "favorite_language = ' python '\n",
    "favorite language = favorite_language.rstrip()\n",
    "\n",
    "\n",
    "```\n",
    "\n",
    "**can remove write space from both sides at once using strip()**\n",
    "\n",
    "```python\n",
    "favorite language = favorite_language.strip()\n",
    "\n",
    "```"
   ]
  },
  {
   "cell_type": "markdown",
   "id": "274654fa",
   "metadata": {},
   "source": [
    "# Exercise \n",
    "\n",
    "2-3.\n",
    "Personal Message: Use a variable to represent a person’s name, and print a message to that person. Your message should be simple, such as, “Hello Eric, would you like to learn some Python today?” \n",
    "\n",
    "2-4. \n",
    "Name Cases: Use a variable to represent a person’s name, and then print that person’s name in lowercase, uppercase, and title case. \n",
    "\n",
    "2-5. \n",
    "Famous Quote: Find a quote from a famous person you admire.\n",
    "Print the quote and the name of its author. Your output should look something like the following, including the quotation marks:\n",
    "\n",
    "Albert Einstein once said, “A person who never made a mistake never tried anything new.”\n",
    "\n",
    "2-6. \n",
    "Famous Quote 2: Repeat Exercise 2-5, but this time, represent the famous person’s name using a variable called famous_person. \n",
    "Then compose your  message and represent it with a new variable called message. Print your message. \n",
    "\n",
    "2 - 7.  \n",
    "Stripping Names: Use a variable to represent a person’s name, and include some whitespace characters at the beginning and end of the name. Make sure you use each character combination, \"\\t\" and \"\\n\", at least once.\n",
    "Print the name once, so the whitespace around the name is displayed.\n",
    "Then print the name using each of the three stripping functions, lstrip(), rstrip(), and strip().\n"
   ]
  },
  {
   "cell_type": "code",
   "execution_count": 61,
   "id": "ffc432da",
   "metadata": {},
   "outputs": [
    {
     "name": "stdout",
     "output_type": "stream",
     "text": [
      "hello Eric are you ready to learn python today?\n",
      "hello Eric are you ready to learn python today?\n",
      "\n",
      "\n",
      "Hi Eric,\n",
      "i can print your name in lower case eric as well as upper case ERIC can also title case Eric\n",
      "\n",
      "\n",
      "Albert einstein once said \"A person who never made a mistake never tried anything new.\"\n",
      "\n",
      "\n",
      "Albert Einstein once said \"A person who never made a mistake never tried anything new.\"\n",
      "\n",
      "\n",
      "     henry\tthe main  \n",
      "man \n",
      "henry\tthe main  \n",
      "man\n"
     ]
    }
   ],
   "source": [
    "#2.3 \n",
    "person_name = \"Eric\"\n",
    "print (f\"hello {person_name} are you ready to learn python today?\") #f string way , alot easier \n",
    "print(\"hello\" + \" \" + (person_name) + \" \" + \"are you ready to learn python today?\")\n",
    "\n",
    "print(\"\\n\")\n",
    "\n",
    "# 2.4\n",
    "print(f\"Hi {person_name},\\ni can print your name in lower case {person_name.lower()} as well as upper case {person_name.upper()} can also title case {person_name.title()}\")\n",
    "\n",
    "print(\"\\n\")\n",
    "\n",
    "# 2.5 \n",
    "quote = 'A person who never made a mistake never tried anything new.'#need to put the orginial quote in single quotation marks \n",
    "print(f'Albert einstein once said \"{quote}\"')\n",
    "print(\"\\n\")\n",
    "\n",
    "#2.6 \n",
    "famous_person = 'albert Einstein'\n",
    "\n",
    "print(f'{famous_person.title()} once said \"{quote}\"')\n",
    "print(\"\\n\")\n",
    "\n",
    "#2.7\n",
    "name = '     henry\\tthe main  \\nman '\n",
    "print(name)\n",
    "print(name.strip())\n",
    "\n",
    "\n"
   ]
  },
  {
   "cell_type": "code",
   "execution_count": null,
   "id": "0128ca6a",
   "metadata": {},
   "outputs": [],
   "source": []
  }
 ],
 "metadata": {
  "kernelspec": {
   "display_name": "Python 3 (ipykernel)",
   "language": "python",
   "name": "python3"
  },
  "language_info": {
   "codemirror_mode": {
    "name": "ipython",
    "version": 3
   },
   "file_extension": ".py",
   "mimetype": "text/x-python",
   "name": "python",
   "nbconvert_exporter": "python",
   "pygments_lexer": "ipython3",
   "version": "3.10.9"
  }
 },
 "nbformat": 4,
 "nbformat_minor": 5
}
