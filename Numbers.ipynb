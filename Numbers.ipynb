{
 "cells": [
  {
   "cell_type": "markdown",
   "id": "0908fee7",
   "metadata": {},
   "source": [
    "You can assign number with underscores \n",
    "python still sees them the same \n",
    "\n",
    "Even if you don’t group the digits in threes, the value will still be un affected. **To Python, 1000 is the same as 1_000**, which is the same as 10_00. This fea- ture works for integers and floats\n",
    "\n",
    "\n",
    "Python provides **built-in numeric data types like int, float, and complex** to represent numbers. Python *dynamically determines the data type based on the assigned value*."
   ]
  },
  {
   "cell_type": "markdown",
   "id": "6ec06861",
   "metadata": {},
   "source": [
    "**To include an operation in a print statement with explicit type casting:**\n",
    "```python\n",
    "num = int(5)  # Casts 5 to an integer\n",
    "print(\"The number is:\", int(5))\n",
    "```\n",
    "Output:\n",
    "The number is: 5\n",
    "\n",
    "\n",
    "**To concatenate an integer with a string in a print statement:**\n",
    "\n",
    "```python\n",
    "print(str(5 + 5) + \" equals 10\")\n",
    "```\n",
    "Output:\n",
    "10 equals 10\n",
    "\n",
    "\n",
    "**To convert a float calculation to an integer before printing it, in one line of code:**\n",
    "```python\n",
    "print(\"Result:\", int(3.14 * 2))\n",
    "```\n",
    "Output:\n",
    "Result: 6\n",
    "\n",
    "**To round a float calculation to the nearest integer before printing it, in one line of code:**\n",
    "```python\n",
    "Copy code\n",
    "print(\"Result:\", round(3.14 * 2))\n",
    "```\n",
    "Output:\n",
    "Result: 6\n",
    "\n",
    "**Can also use numbers in f strings** \n",
    "```python\n",
    "name = \"Alice\"\n",
    "age = 25\n",
    "\n",
    "message = f\"My name is {name} and I am {age} years old.\"\n",
    "print(message)\n",
    "```"
   ]
  },
  {
   "cell_type": "code",
   "execution_count": 11,
   "id": "c1e23687",
   "metadata": {},
   "outputs": [
    {
     "name": "stdout",
     "output_type": "stream",
     "text": [
      "4\n",
      "6\n"
     ]
    }
   ],
   "source": [
    "# Multiple assignment \n",
    "\n",
    "x , y , z = 7 , 4 , 6\n",
    "print (y)\n",
    "print(z)"
   ]
  },
  {
   "cell_type": "markdown",
   "id": "8e3b19fa",
   "metadata": {},
   "source": [
    "2-8. \n",
    "Number Eight: Write addition, subtraction, multiplication, and division operations that each result in the number 8. \n",
    "Be sure to enclose your operations in print() calls to see the results. You should create four lines that look like this:\n",
    "print(5+3)\n",
    "Your output should simply be four lines with the number 8 appearing once\n",
    "on each line. \n",
    "\n",
    "\n",
    "2-9.  \n",
    "\n",
    "Favorite Number: Use a variable to represent your favorite number. Then, using that variable, create a message that reveals your favorite number. Print that message.\n"
   ]
  },
  {
   "cell_type": "code",
   "execution_count": 16,
   "id": "e7d98920",
   "metadata": {},
   "outputs": [
    {
     "name": "stdout",
     "output_type": "stream",
     "text": [
      "8\n",
      "8.0\n",
      "8\n",
      "8\n",
      "My favorite number is  7\n",
      "My favorite number is 7\n",
      "My favorite number is 7\n"
     ]
    }
   ],
   "source": [
    "#2.8\n",
    "print(4+4)\n",
    "print(16/2)\n",
    "print(4*2)\n",
    "print(20-12)\n",
    "\n",
    "#2.9\n",
    "fav_num = 7\n",
    "print(\"My favorite number is \" , fav_num)# string concatanation\n",
    "print(f\"My favorite number is {fav_num}\") #using in an f string \n",
    "print(\"My favorite number is \" + str(fav_num)) #concatenation with string\n",
    "\n"
   ]
  },
  {
   "cell_type": "code",
   "execution_count": null,
   "id": "ce9cb166",
   "metadata": {},
   "outputs": [],
   "source": []
  }
 ],
 "metadata": {
  "kernelspec": {
   "display_name": "Python 3 (ipykernel)",
   "language": "python",
   "name": "python3"
  },
  "language_info": {
   "codemirror_mode": {
    "name": "ipython",
    "version": 3
   },
   "file_extension": ".py",
   "mimetype": "text/x-python",
   "name": "python",
   "nbconvert_exporter": "python",
   "pygments_lexer": "ipython3",
   "version": "3.10.9"
  }
 },
 "nbformat": 4,
 "nbformat_minor": 5
}
